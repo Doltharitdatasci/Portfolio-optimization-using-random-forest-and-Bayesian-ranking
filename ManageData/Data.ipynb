{
 "cells": [
  {
   "cell_type": "code",
   "execution_count": 27,
   "metadata": {},
   "outputs": [],
   "source": [
    "import pandas as pd"
   ]
  },
  {
   "cell_type": "code",
   "execution_count": 23,
   "metadata": {},
   "outputs": [
    {
     "name": "stdout",
     "output_type": "stream",
     "text": [
      "[*********************100%***********************]  1 of 1 completed\n",
      "[*********************100%***********************]  1 of 1 completed\n",
      "[*********************100%***********************]  1 of 1 completed\n",
      "[*********************100%***********************]  1 of 1 completed\n",
      "[*********************100%***********************]  1 of 1 completed\n"
     ]
    }
   ],
   "source": [
    "# Import the yfinance. If you get module not found error the run !pip install yfinance from your Jupyter notebook\n",
    "import yfinance as yf\n",
    "\n",
    "# Get the data for the stock AAPL\n",
    "btc = yf.download('BTC-USD','2018-01-01','2021-12-31')\n",
    "sp500 = yf.download('^GSPC','2018-01-01','2021-12-31')\n",
    "gold = yf.download('GC=F','2018-01-01','2021-12-31')\n",
    "t_10y = yf.download('^TNX','2018-01-01','2021-12-31')\n",
    "t_5y = yf.download('^FVX','2018-01-01','2021-12-31')\n"
   ]
  },
  {
   "cell_type": "code",
   "execution_count": 42,
   "metadata": {},
   "outputs": [],
   "source": [
    "sp500_weekly = sp500.resample('W-Fri').last()[['Close']].rename(columns={\"Close\": \"sp500\"})\n",
    "btc_weekly = btc.resample('W-Fri').last()[['Close']].rename(columns={\"Close\": \"btc\"})\n",
    "gold_weekly = gold.resample('W-Fri').last()[['Close']].rename(columns={\"Close\": \"gold\"})\n",
    "t_10y_weekly = t_10y.resample('W-Fri').last()[['Close']].rename(columns={\"Close\": \"t_10y\"})\n",
    "t_5y_weekly = t_5y.resample('W-Fri').last()[['Close']].rename(columns={\"Close\": \"t_5y\"})"
   ]
  },
  {
   "cell_type": "code",
   "execution_count": 43,
   "metadata": {},
   "outputs": [
    {
     "name": "stdout",
     "output_type": "stream",
     "text": [
      "                  sp500           btc         gold  t_10y   t_5y\n",
      "Date                                                            \n",
      "2018-01-05  2743.149902  17429.500000  1320.300049  2.476  2.285\n",
      "2018-01-12  2786.239990  13980.599609  1333.400024  2.552  2.347\n",
      "2018-01-19  2810.300049  11607.400391  1331.900024  2.637  2.436\n",
      "2018-01-26  2872.870117  11171.400391  1351.599976  2.662  2.470\n",
      "2018-02-02  2762.129883   8830.750000  1333.699951  2.854  2.599\n",
      "...                 ...           ...          ...    ...    ...\n",
      "2021-12-03  4538.430176  53598.246094  1782.000000  1.343  1.124\n",
      "2021-12-10  4712.020020  47243.304688  1782.900024  1.489  1.252\n",
      "2021-12-17  4620.640137  46202.144531  1803.800049  1.402  1.177\n",
      "2021-12-24  4725.790039  50822.195312  1811.199951  1.493  1.243\n",
      "2021-12-31  4778.729980  47178.125000  1812.699951  1.515  1.274\n",
      "\n",
      "[209 rows x 5 columns]\n"
     ]
    }
   ],
   "source": [
    "import pandas as pd\n",
    "\n",
    "# Create a list of the tables to merge\n",
    "tables = []\n",
    "tables.append(sp500_weekly)\n",
    "tables.append(btc_weekly)\n",
    "tables.append(gold_weekly)\n",
    "tables.append(t_10y_weekly)\n",
    "tables.append(t_5y_weekly)\n",
    "\n",
    "# Merge the tables using the 'concat' function\n",
    "df_merged = pd.concat(tables, axis=1, join=\"inner\")\n",
    "\n",
    "# View the resulting DataFrame\n",
    "print(df_merged)\n",
    "\n",
    "\n"
   ]
  },
  {
   "cell_type": "code",
   "execution_count": 46,
   "metadata": {},
   "outputs": [],
   "source": [
    "df_returns =df_merged.pct_change()"
   ]
  },
  {
   "cell_type": "code",
   "execution_count": 47,
   "metadata": {},
   "outputs": [
    {
     "data": {
      "text/html": [
       "<div>\n",
       "<style scoped>\n",
       "    .dataframe tbody tr th:only-of-type {\n",
       "        vertical-align: middle;\n",
       "    }\n",
       "\n",
       "    .dataframe tbody tr th {\n",
       "        vertical-align: top;\n",
       "    }\n",
       "\n",
       "    .dataframe thead th {\n",
       "        text-align: right;\n",
       "    }\n",
       "</style>\n",
       "<table border=\"1\" class=\"dataframe\">\n",
       "  <thead>\n",
       "    <tr style=\"text-align: right;\">\n",
       "      <th></th>\n",
       "      <th>sp500</th>\n",
       "      <th>btc</th>\n",
       "      <th>gold</th>\n",
       "      <th>t_10y</th>\n",
       "      <th>t_5y</th>\n",
       "    </tr>\n",
       "    <tr>\n",
       "      <th>Date</th>\n",
       "      <th></th>\n",
       "      <th></th>\n",
       "      <th></th>\n",
       "      <th></th>\n",
       "      <th></th>\n",
       "    </tr>\n",
       "  </thead>\n",
       "  <tbody>\n",
       "    <tr>\n",
       "      <th>2018-01-05</th>\n",
       "      <td>NaN</td>\n",
       "      <td>NaN</td>\n",
       "      <td>NaN</td>\n",
       "      <td>NaN</td>\n",
       "      <td>NaN</td>\n",
       "    </tr>\n",
       "    <tr>\n",
       "      <th>2018-01-12</th>\n",
       "      <td>0.015708</td>\n",
       "      <td>-0.197877</td>\n",
       "      <td>0.009922</td>\n",
       "      <td>0.030695</td>\n",
       "      <td>0.027133</td>\n",
       "    </tr>\n",
       "    <tr>\n",
       "      <th>2018-01-19</th>\n",
       "      <td>0.008635</td>\n",
       "      <td>-0.169749</td>\n",
       "      <td>-0.001125</td>\n",
       "      <td>0.033307</td>\n",
       "      <td>0.037921</td>\n",
       "    </tr>\n",
       "    <tr>\n",
       "      <th>2018-01-26</th>\n",
       "      <td>0.022265</td>\n",
       "      <td>-0.037562</td>\n",
       "      <td>0.014791</td>\n",
       "      <td>0.009480</td>\n",
       "      <td>0.013957</td>\n",
       "    </tr>\n",
       "    <tr>\n",
       "      <th>2018-02-02</th>\n",
       "      <td>-0.038547</td>\n",
       "      <td>-0.209522</td>\n",
       "      <td>-0.013244</td>\n",
       "      <td>0.072126</td>\n",
       "      <td>0.052227</td>\n",
       "    </tr>\n",
       "    <tr>\n",
       "      <th>...</th>\n",
       "      <td>...</td>\n",
       "      <td>...</td>\n",
       "      <td>...</td>\n",
       "      <td>...</td>\n",
       "      <td>...</td>\n",
       "    </tr>\n",
       "    <tr>\n",
       "      <th>2021-12-03</th>\n",
       "      <td>-0.012230</td>\n",
       "      <td>0.000532</td>\n",
       "      <td>-0.001848</td>\n",
       "      <td>-0.093792</td>\n",
       "      <td>-0.038495</td>\n",
       "    </tr>\n",
       "    <tr>\n",
       "      <th>2021-12-10</th>\n",
       "      <td>0.038249</td>\n",
       "      <td>-0.118566</td>\n",
       "      <td>0.000505</td>\n",
       "      <td>0.108712</td>\n",
       "      <td>0.113879</td>\n",
       "    </tr>\n",
       "    <tr>\n",
       "      <th>2021-12-17</th>\n",
       "      <td>-0.019393</td>\n",
       "      <td>-0.022038</td>\n",
       "      <td>0.011722</td>\n",
       "      <td>-0.058428</td>\n",
       "      <td>-0.059904</td>\n",
       "    </tr>\n",
       "    <tr>\n",
       "      <th>2021-12-24</th>\n",
       "      <td>0.022757</td>\n",
       "      <td>0.099996</td>\n",
       "      <td>0.004102</td>\n",
       "      <td>0.064907</td>\n",
       "      <td>0.056075</td>\n",
       "    </tr>\n",
       "    <tr>\n",
       "      <th>2021-12-31</th>\n",
       "      <td>0.011202</td>\n",
       "      <td>-0.071702</td>\n",
       "      <td>0.000828</td>\n",
       "      <td>0.014735</td>\n",
       "      <td>0.024940</td>\n",
       "    </tr>\n",
       "  </tbody>\n",
       "</table>\n",
       "<p>209 rows × 5 columns</p>\n",
       "</div>"
      ],
      "text/plain": [
       "               sp500       btc      gold     t_10y      t_5y\n",
       "Date                                                        \n",
       "2018-01-05       NaN       NaN       NaN       NaN       NaN\n",
       "2018-01-12  0.015708 -0.197877  0.009922  0.030695  0.027133\n",
       "2018-01-19  0.008635 -0.169749 -0.001125  0.033307  0.037921\n",
       "2018-01-26  0.022265 -0.037562  0.014791  0.009480  0.013957\n",
       "2018-02-02 -0.038547 -0.209522 -0.013244  0.072126  0.052227\n",
       "...              ...       ...       ...       ...       ...\n",
       "2021-12-03 -0.012230  0.000532 -0.001848 -0.093792 -0.038495\n",
       "2021-12-10  0.038249 -0.118566  0.000505  0.108712  0.113879\n",
       "2021-12-17 -0.019393 -0.022038  0.011722 -0.058428 -0.059904\n",
       "2021-12-24  0.022757  0.099996  0.004102  0.064907  0.056075\n",
       "2021-12-31  0.011202 -0.071702  0.000828  0.014735  0.024940\n",
       "\n",
       "[209 rows x 5 columns]"
      ]
     },
     "execution_count": 47,
     "metadata": {},
     "output_type": "execute_result"
    }
   ],
   "source": [
    "df_returns"
   ]
  },
  {
   "cell_type": "code",
   "execution_count": null,
   "metadata": {},
   "outputs": [],
   "source": []
  }
 ],
 "metadata": {
  "kernelspec": {
   "display_name": "Python 3",
   "language": "python",
   "name": "python3"
  },
  "language_info": {
   "codemirror_mode": {
    "name": "ipython",
    "version": 3
   },
   "file_extension": ".py",
   "mimetype": "text/x-python",
   "name": "python",
   "nbconvert_exporter": "python",
   "pygments_lexer": "ipython3",
   "version": "3.9.6"
  },
  "orig_nbformat": 4,
  "vscode": {
   "interpreter": {
    "hash": "31f2aee4e71d21fbe5cf8b01ff0e069b9275f58929596ceb00d14d90e3e16cd6"
   }
  }
 },
 "nbformat": 4,
 "nbformat_minor": 2
}
